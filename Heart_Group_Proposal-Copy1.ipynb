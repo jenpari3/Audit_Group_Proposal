{
 "cells": [
  {
   "cell_type": "markdown",
   "id": "05567f4f-ca3d-4dbd-9cf3-3aa15740f441",
   "metadata": {},
   "source": [
    "Heart Disease Prediction "
   ]
  },
  {
   "cell_type": "markdown",
   "id": "f8de5103-80ff-453c-88c3-ac04c47a872c",
   "metadata": {},
   "source": [
    "### *Introduction*\n",
    "The dataset that our group focuses on is the Coronary Artery Heart Disease data which records 14 attributes of patients in four regions: Cleveland, Hungary, Switzerland, and VA Long Beach. The attributes include age, stage of heart disease, blood pressure, and more.\n",
    "\n",
    "For our project, we will be focusing on the predictive question,\n",
    "- Can we predict patients’ stage of heart disease in Cleveland using the predictors age, resting blood pressure, serum cholesterol, and ST depression induced by exercise relative to rest?\n",
    "\n",
    "We aim to build a classification model that predicts the condition of patients, classifying them in one of the five stages of heart disease (0-4). 0 means that the patients have no heart disease, and the others represent the severity of heart disease in increasing order. We also want to know if our model is accurate in making predictions.\n"
   ]
  },
  {
   "cell_type": "code",
   "execution_count": 1,
   "id": "ec9671f3-0c8e-45c7-8dd5-adb105dcf198",
   "metadata": {},
   "outputs": [
    {
     "name": "stderr",
     "output_type": "stream",
     "text": [
      "Warning message:\n",
      "“package ‘ggplot2’ was built under R version 4.3.2”\n",
      "── \u001b[1mAttaching core tidyverse packages\u001b[22m ──────────────────────── tidyverse 2.0.0 ──\n",
      "\u001b[32m✔\u001b[39m \u001b[34mdplyr    \u001b[39m 1.1.3     \u001b[32m✔\u001b[39m \u001b[34mreadr    \u001b[39m 2.1.4\n",
      "\u001b[32m✔\u001b[39m \u001b[34mforcats  \u001b[39m 1.0.0     \u001b[32m✔\u001b[39m \u001b[34mstringr  \u001b[39m 1.5.0\n",
      "\u001b[32m✔\u001b[39m \u001b[34mggplot2  \u001b[39m 3.5.0     \u001b[32m✔\u001b[39m \u001b[34mtibble   \u001b[39m 3.2.1\n",
      "\u001b[32m✔\u001b[39m \u001b[34mlubridate\u001b[39m 1.9.2     \u001b[32m✔\u001b[39m \u001b[34mtidyr    \u001b[39m 1.3.0\n",
      "\u001b[32m✔\u001b[39m \u001b[34mpurrr    \u001b[39m 1.0.2     \n",
      "── \u001b[1mConflicts\u001b[22m ────────────────────────────────────────── tidyverse_conflicts() ──\n",
      "\u001b[31m✖\u001b[39m \u001b[34mdplyr\u001b[39m::\u001b[32mfilter()\u001b[39m masks \u001b[34mstats\u001b[39m::filter()\n",
      "\u001b[31m✖\u001b[39m \u001b[34mdplyr\u001b[39m::\u001b[32mlag()\u001b[39m    masks \u001b[34mstats\u001b[39m::lag()\n",
      "\u001b[36mℹ\u001b[39m Use the conflicted package (\u001b[3m\u001b[34m<http://conflicted.r-lib.org/>\u001b[39m\u001b[23m) to force all conflicts to become errors\n",
      "── \u001b[1mAttaching packages\u001b[22m ────────────────────────────────────── tidymodels 1.1.1 ──\n",
      "\n",
      "\u001b[32m✔\u001b[39m \u001b[34mbroom       \u001b[39m 1.0.5     \u001b[32m✔\u001b[39m \u001b[34mrsample     \u001b[39m 1.2.0\n",
      "\u001b[32m✔\u001b[39m \u001b[34mdials       \u001b[39m 1.2.0     \u001b[32m✔\u001b[39m \u001b[34mtune        \u001b[39m 1.1.2\n",
      "\u001b[32m✔\u001b[39m \u001b[34minfer       \u001b[39m 1.0.5     \u001b[32m✔\u001b[39m \u001b[34mworkflows   \u001b[39m 1.1.3\n",
      "\u001b[32m✔\u001b[39m \u001b[34mmodeldata   \u001b[39m 1.2.0     \u001b[32m✔\u001b[39m \u001b[34mworkflowsets\u001b[39m 1.0.1\n",
      "\u001b[32m✔\u001b[39m \u001b[34mparsnip     \u001b[39m 1.1.1     \u001b[32m✔\u001b[39m \u001b[34myardstick   \u001b[39m 1.2.0\n",
      "\u001b[32m✔\u001b[39m \u001b[34mrecipes     \u001b[39m 1.0.8     \n",
      "\n",
      "── \u001b[1mConflicts\u001b[22m ───────────────────────────────────────── tidymodels_conflicts() ──\n",
      "\u001b[31m✖\u001b[39m \u001b[34mscales\u001b[39m::\u001b[32mdiscard()\u001b[39m masks \u001b[34mpurrr\u001b[39m::discard()\n",
      "\u001b[31m✖\u001b[39m \u001b[34mdplyr\u001b[39m::\u001b[32mfilter()\u001b[39m   masks \u001b[34mstats\u001b[39m::filter()\n",
      "\u001b[31m✖\u001b[39m \u001b[34mrecipes\u001b[39m::\u001b[32mfixed()\u001b[39m  masks \u001b[34mstringr\u001b[39m::fixed()\n",
      "\u001b[31m✖\u001b[39m \u001b[34mdplyr\u001b[39m::\u001b[32mlag()\u001b[39m      masks \u001b[34mstats\u001b[39m::lag()\n",
      "\u001b[31m✖\u001b[39m \u001b[34myardstick\u001b[39m::\u001b[32mspec()\u001b[39m masks \u001b[34mreadr\u001b[39m::spec()\n",
      "\u001b[31m✖\u001b[39m \u001b[34mrecipes\u001b[39m::\u001b[32mstep()\u001b[39m   masks \u001b[34mstats\u001b[39m::step()\n",
      "\u001b[34m•\u001b[39m Use suppressPackageStartupMessages() to eliminate package startup messages\n",
      "\n",
      "Warning message:\n",
      "“package ‘GGally’ was built under R version 4.3.2”\n",
      "Registered S3 method overwritten by 'GGally':\n",
      "  method from   \n",
      "  +.gg   ggplot2\n",
      "\n"
     ]
    }
   ],
   "source": [
    "library(repr)\n",
    "library(tidyverse)\n",
    "library(tidymodels)\n",
    "library(GGally)\n",
    "options(repr.matrix.max.rows = 6)"
   ]
  },
  {
   "cell_type": "code",
   "execution_count": null,
   "id": "39cc7251-42e5-46f0-aded-4aa7dc613c76",
   "metadata": {},
   "outputs": [],
   "source": [
    "set.seed(3456)\n",
    "url <- \"https://raw.githubusercontent.com/Jessieec/Group-Proposal/main/heart_disease_uci.csv\"\n",
    "heart_data <- read_csv(url)\n",
    "heart_data"
   ]
  },
  {
   "cell_type": "markdown",
   "id": "a3be64f9-c12e-4b18-9195-8ebcd401ce43",
   "metadata": {},
   "source": [
    "### *Preliminary exploratory data analysis*"
   ]
  },
  {
   "cell_type": "code",
   "execution_count": null,
   "id": "33cff448-6a9b-4d43-9619-fecdf7ffc72f",
   "metadata": {},
   "outputs": [],
   "source": [
    "heart_data_wrangled <- heart_data |>\n",
    "    select(age, dataset, trestbps, chol, oldpeak, num) |>\n",
    "    rename(region = dataset, stage = num) |>\n",
    "    filter(region == \"Cleveland\") |> \n",
    "    mutate(stage = as_factor(stage))\n",
    "    \n",
    "heart_data_wrangled"
   ]
  },
  {
   "cell_type": "code",
   "execution_count": null,
   "id": "17060eb7-97e6-42fd-8cff-d5d2636572ef",
   "metadata": {},
   "outputs": [],
   "source": [
    "#training data\n",
    "heart_data_split <- initial_split(heart_data_wrangled, prop = 0.75, strata = stage)\n",
    "heart_data_training <- training(heart_data_split)\n",
    "heart_data_testing <- testing(heart_data_split)\n",
    "heart_data_training"
   ]
  },
  {
   "cell_type": "code",
   "execution_count": null,
   "id": "18d2f2a3-0e5d-4427-a63c-bbe2b31eb222",
   "metadata": {},
   "outputs": [],
   "source": [
    "# mean of selected predictors\n",
    "heart_data_mean <- summarize(heart_data_training, \n",
    "                             age_mean = mean(age),\n",
    "                             chol_mean = mean(chol), \n",
    "                             trestbps_mean = mean(trestbps),\n",
    "                            oldpeak_mean = mean(oldpeak))|>\n",
    "                    pivot_longer(cols = age_mean:oldpeak_mean,\n",
    "                                 names_to = \"variables\",\n",
    "                                 values_to = \"mean\")\n",
    "heart_data_mean\n",
    "\n",
    "# number of observations for each class\n",
    "heart_data_observations <- group_by(heart_data_training, stage) |>\n",
    "    summarize(count = n())\n",
    "heart_data_observations\n",
    "\n",
    "# rows with missing data\n",
    "heart_data_missing <- filter(heart_data_training, is.na(trestbps) & is.na(chol) & is.na(stage)) |>\n",
    "    count()\n",
    "heart_data_missing"
   ]
  },
  {
   "cell_type": "code",
   "execution_count": null,
   "id": "0285df86-5897-4eca-94a0-3be73a4349a7",
   "metadata": {},
   "outputs": [],
   "source": [
    "#graph for Mean Data\n",
    "heart_data_mean_plot <- heart_data_mean |>\n",
    "    ggplot(aes(x = variables, y = mean)) +\n",
    "    geom_bar(stat = \"identity\") +\n",
    "    labs(x = \"Variable Names\", y = \"Mean of Variables\") +\n",
    "    ggtitle(\"Variables Chosen vs. Mean of Each Variable\") +\n",
    "    theme(text = element_text(size = 15))\n",
    "heart_data_mean_plot"
   ]
  },
  {
   "cell_type": "markdown",
   "id": "9f8f4615-5738-4a46-a7d0-ff9b5eca08c7",
   "metadata": {},
   "source": [
    "#### *Note About Oldpeak on the Mean Bar Chart:*\n",
    "- Since we will be scaling the data later on in our analysis, the oldpeak value being comparably smaller will not be an issue."
   ]
  },
  {
   "cell_type": "code",
   "execution_count": null,
   "id": "736a4bb5-f069-43d9-ae81-eeab2ca0d67a",
   "metadata": {},
   "outputs": [],
   "source": [
    "#graph for number of observations\n",
    "# This section help us visualize the distribution of patients for different stages of heart disease\n",
    "heart_data_observation_plot <- heart_data_observations |>\n",
    "    ggplot(aes(x = stage, y = count)) +\n",
    "    geom_bar(stat = \"identity\") +\n",
    "    labs(x = \"Stages of Heart Disease\", y = \"Number of Patients\") +\n",
    "    ggtitle(\"Number of Observations for Each Stages of Heart Disease\") +\n",
    "    theme(text = element_text(size = 15))\n",
    "heart_data_observation_plot"
   ]
  },
  {
   "cell_type": "code",
   "execution_count": 1,
   "id": "7d176509-1247-4a8d-9c1b-3ce90e2683c0",
   "metadata": {},
   "outputs": [
    {
     "ename": "ERROR",
     "evalue": "Error in vfold_cv(data = heart_data_training, v = 5, strata = stage): could not find function \"vfold_cv\"\n",
     "output_type": "error",
     "traceback": [
      "Error in vfold_cv(data = heart_data_training, v = 5, strata = stage): could not find function \"vfold_cv\"\nTraceback:\n"
     ]
    }
   ],
   "source": [
    "set.seed(1234) \n",
    "\n",
    "options(repr.plot.height = 5, repr.plot.width = 6)\n",
    "\n",
    "heart_vfold <- vfold_cv(data = heart_data_training, v = 5, strata = stage)\n",
    "\n",
    "knn_tune <- nearest_neighbor(weight_func = \"rectangular\", neighbors = tune()) |>\n",
    "            set_engine(\"kknn\") |>\n",
    "            set_mode(\"classification\")\n",
    "\n",
    "heart_recipe <- recipe(stage ~ age + trestbps + chol + oldpeak, data = heart_data_training) |>\n",
    "                step_scale(all_predictors()) |>\n",
    "                step_center(all_predictors())\n",
    "\n",
    "values_1 <- tibble(neighbors = seq(from = 1, to = 100, by = 5))\n",
    "\n",
    "heart_fit_1 <- workflow() |>\n",
    "                add_model(knn_tune) |>\n",
    "                add_recipe(heart_recipe) |>\n",
    "                tune_grid(resamples = heart_vfold, grid = values_1) |>\n",
    "                collect_metrics() |>\n",
    "                filter(.metric == \"accuracy\")\n",
    "\n",
    "cross_val_plot_1 <- ggplot(heart_fit_1, aes(x = neighbors, y = mean)) + \n",
    "                    geom_point() + \n",
    "                    geom_line() + \n",
    "                    labs(x = \"Neighbors\", y = \"Accuracy Estimate\")\n",
    "\n",
    "cross_val_plot_1\n",
    "\n",
    "values_2 <- tibble(neighbors = seq(from = 10, to = 15, by = 1))\n",
    "\n",
    "heart_fit_2 <- workflow() |>\n",
    "                add_model(knn_tune) |>\n",
    "                add_recipe(heart_recipe) |>\n",
    "                tune_grid(resamples = heart_vfold, grid = values_2) |>\n",
    "                collect_metrics() |>\n",
    "                filter(.metric == \"accuracy\")\n",
    "\n",
    "cross_val_plot_2 <- ggplot(heart_fit_2, aes(x = neighbors, y = mean)) + \n",
    "                    geom_point() + \n",
    "                    geom_line() + \n",
    "                    labs(x = \"Neighbors\", y = \"Accuracy Estimate\")\n",
    "\n",
    "cross_val_plot_2\n",
    "\n"
   ]
  },
  {
   "cell_type": "markdown",
   "id": "d4db05c4-aeaf-4c27-8172-d8a1079201c6",
   "metadata": {},
   "source": [
    "I first turned from 1 - 100. Peak reached b/w 1-20. Then I made the graph smaller. Peak accuracy = 14. "
   ]
  },
  {
   "cell_type": "code",
   "execution_count": null,
   "id": "7a0b94ef-12a6-4ef5-96df-01fccc1061da",
   "metadata": {},
   "outputs": [],
   "source": [
    "set.seed(1234) \n",
    "\n",
    "heart_spec <- nearest_neighbor(weight_func = \"rectangular\", neighbors = 14) |>\n",
    "                set_engine(\"kknn\") |>\n",
    "                set_mode(\"classification\")\n",
    "\n",
    "heart_final_fit <- workflow() |>\n",
    "            add_recipe(heart_recipe) |>\n",
    "            add_model(heart_spec) |>\n",
    "            fit(data = heart_data_training)\n",
    "\n",
    "heart_final_fit"
   ]
  },
  {
   "cell_type": "code",
   "execution_count": null,
   "id": "84f09e63-e882-4f95-8916-4ec9c5debe18",
   "metadata": {},
   "outputs": [],
   "source": [
    "# Set the seed. Don't remove this!\n",
    "set.seed(1234)\n",
    "\n",
    "heart_predictions <- heart_final_fit |>\n",
    "    predict(heart_data_training) |>\n",
    "    bind_cols(heart_data_training)\n",
    "\n",
    "heart_metrics <- heart_predictions |>\n",
    "    metrics(truth = stage, estimate = .pred_class) |>\n",
    "    filter(.metric == \"accuracy\")\n",
    "   \n",
    "\n",
    "heart_conf_mat <- heart_predictions |>\n",
    "    conf_mat(truth = stage, estimate = .pred_class)\n",
    "\n",
    "heart_metrics\n",
    "heart_conf_mat"
   ]
  },
  {
   "cell_type": "code",
   "execution_count": null,
   "id": "0e97f62b-06fb-4b51-9e1e-837ccde7b9db",
   "metadata": {},
   "outputs": [],
   "source": [
    "set.seed(1234)\n",
    "\n",
    "patient <- tibble(age = 74, trestbps = 188, chol = 240, oldpeak = 2.3)\n",
    "\n",
    "heart_predict <- predict(heart_final_fit, patient)\n",
    "\n",
    "heart_predict"
   ]
  },
  {
   "cell_type": "markdown",
   "id": "f96a74a4-c5c8-4e0e-88d4-3b04d605cc8c",
   "metadata": {},
   "source": [
    "### *Method*"
   ]
  },
  {
   "cell_type": "code",
   "execution_count": null,
   "id": "4e0ff707-fd4a-4c61-ae17-283967241e49",
   "metadata": {},
   "outputs": [],
   "source": []
  },
  {
   "cell_type": "code",
   "execution_count": null,
   "id": "37ea83ec-8cab-43b4-bae4-f1e8ad734dcb",
   "metadata": {},
   "outputs": [],
   "source": []
  },
  {
   "cell_type": "code",
   "execution_count": null,
   "id": "d225fdbb-dd62-4dba-903f-e6d08a6bd41d",
   "metadata": {},
   "outputs": [],
   "source": []
  },
  {
   "cell_type": "code",
   "execution_count": null,
   "id": "2ca607d5-0aef-4896-8a7e-8c60701f1d83",
   "metadata": {},
   "outputs": [],
   "source": []
  },
  {
   "cell_type": "markdown",
   "id": "6685d847-a96f-4934-9be5-d9ece93bfdde",
   "metadata": {},
   "source": [
    "- We chose four variables as our predictors: age, resting blood pressure (trestbps), serum cholesterol (chol), and ST depression induced by exercise relative to rest (oldpeak). We removed character and categorical variables because they are difficult to use as predictors in K-NN classification. The “thalach” column is excluded because maximum heart rate happens once. The chosen variables are better indicators because they represent the overall condition of a person.\n",
    "- We will train our model to use K-NN classification to classify the stage of heart disease from 0 to 4 using our predictors.\n",
    "- The visualization of scatterplot matrix will help us visualize the training data, with different colors representing disease stages, showing the relation between predictors and the stage of disease.\n",
    "- Cross-validation will help us determine the best K-value. With the K-value, we can create the K-NN model by setting the mode to “classification” and the engine to “kknn”, and then scale the data using “recipe”. Then, we can use workflow to fit the model to the scaled data.\n",
    "- The prediction accuracy will be calculated using the training model to classify the data from the testing data and then by dividing the number of correct predictions by the total number of predictions. \n",
    "We will optimize the accuracy by testing different training and testing data splits, and then by choosing the model with the highest accuracy.\n"
   ]
  },
  {
   "cell_type": "markdown",
   "id": "171c28e0-5144-4c11-b868-51c4dff68758",
   "metadata": {},
   "source": [
    "### *Expected outcomes and significance*"
   ]
  },
  {
   "cell_type": "markdown",
   "id": "1c540737-e1b7-4b1f-b491-7307ec5cb544",
   "metadata": {},
   "source": [
    "*What do you expect to find?*\n",
    "- We expect the results to show higher stages of heart disease in the elderly and individuals with higher blood pressure, cholesterol, and ST depression.\n",
    "\n",
    "*What impact could such findings have?*\n",
    "- Using models to predict heart disease stages is beneficial for early intervention.\n",
    "- Sometimes, certain medical tests require a doctor's referral. Our model allows people to easily see for themselves if they are at risk for heart disease.\n",
    "\n",
    "*What future questions could this lead to?*\n",
    "- Is our model accurate for the general public (outside of our dataset)?\n",
    "- How can we improve our model to use categorical and character variables as well to predict heart disease?\n",
    "- Despite our model’s focus on Coronary Artery Disease, can our model accurately predict heart disease stages for other heart diseases of the general public?\n"
   ]
  }
 ],
 "metadata": {
  "kernelspec": {
   "display_name": "R",
   "language": "R",
   "name": "ir"
  },
  "language_info": {
   "codemirror_mode": "r",
   "file_extension": ".r",
   "mimetype": "text/x-r-source",
   "name": "R",
   "pygments_lexer": "r",
   "version": "4.3.1"
  }
 },
 "nbformat": 4,
 "nbformat_minor": 5
}
