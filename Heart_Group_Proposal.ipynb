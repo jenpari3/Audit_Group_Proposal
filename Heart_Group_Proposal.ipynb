{
 "cells": [
  {
   "cell_type": "markdown",
   "id": "05567f4f-ca3d-4dbd-9cf3-3aa15740f441",
   "metadata": {},
   "source": [
    "# Title: Heart Disease ....."
   ]
  },
  {
   "cell_type": "markdown",
   "id": "f8de5103-80ff-453c-88c3-ac04c47a872c",
   "metadata": {},
   "source": [
    "### *Introduction*\n",
    "- ...\n",
    "- Provide some relevant background information on the topic so that someone unfamiliar with it will be prepared to understand the rest of your proposal\n",
    "- Clearly state the question you will try to answer with your project\n",
    "- Identify and describe the dataset that will be used to answer the question"
   ]
  },
  {
   "cell_type": "code",
   "execution_count": 2,
   "id": "470419ee-00e9-4860-bb67-5641425c2442",
   "metadata": {},
   "outputs": [
    {
     "name": "stderr",
     "output_type": "stream",
     "text": [
      "── \u001b[1mAttaching core tidyverse packages\u001b[22m ──────────────────────── tidyverse 2.0.0 ──\n",
      "\u001b[32m✔\u001b[39m \u001b[34mdplyr    \u001b[39m 1.1.3     \u001b[32m✔\u001b[39m \u001b[34mreadr    \u001b[39m 2.1.4\n",
      "\u001b[32m✔\u001b[39m \u001b[34mforcats  \u001b[39m 1.0.0     \u001b[32m✔\u001b[39m \u001b[34mstringr  \u001b[39m 1.5.0\n",
      "\u001b[32m✔\u001b[39m \u001b[34mggplot2  \u001b[39m 3.4.4     \u001b[32m✔\u001b[39m \u001b[34mtibble   \u001b[39m 3.2.1\n",
      "\u001b[32m✔\u001b[39m \u001b[34mlubridate\u001b[39m 1.9.3     \u001b[32m✔\u001b[39m \u001b[34mtidyr    \u001b[39m 1.3.0\n",
      "\u001b[32m✔\u001b[39m \u001b[34mpurrr    \u001b[39m 1.0.2     \n",
      "── \u001b[1mConflicts\u001b[22m ────────────────────────────────────────── tidyverse_conflicts() ──\n",
      "\u001b[31m✖\u001b[39m \u001b[34mdplyr\u001b[39m::\u001b[32mfilter()\u001b[39m masks \u001b[34mstats\u001b[39m::filter()\n",
      "\u001b[31m✖\u001b[39m \u001b[34mdplyr\u001b[39m::\u001b[32mlag()\u001b[39m    masks \u001b[34mstats\u001b[39m::lag()\n",
      "\u001b[36mℹ\u001b[39m Use the conflicted package (\u001b[3m\u001b[34m<http://conflicted.r-lib.org/>\u001b[39m\u001b[23m) to force all conflicts to become errors\n",
      "── \u001b[1mAttaching packages\u001b[22m ────────────────────────────────────── tidymodels 1.1.1 ──\n",
      "\n",
      "\u001b[32m✔\u001b[39m \u001b[34mbroom       \u001b[39m 1.0.5     \u001b[32m✔\u001b[39m \u001b[34mrsample     \u001b[39m 1.2.0\n",
      "\u001b[32m✔\u001b[39m \u001b[34mdials       \u001b[39m 1.2.0     \u001b[32m✔\u001b[39m \u001b[34mtune        \u001b[39m 1.1.2\n",
      "\u001b[32m✔\u001b[39m \u001b[34minfer       \u001b[39m 1.0.5     \u001b[32m✔\u001b[39m \u001b[34mworkflows   \u001b[39m 1.1.3\n",
      "\u001b[32m✔\u001b[39m \u001b[34mmodeldata   \u001b[39m 1.2.0     \u001b[32m✔\u001b[39m \u001b[34mworkflowsets\u001b[39m 1.0.1\n",
      "\u001b[32m✔\u001b[39m \u001b[34mparsnip     \u001b[39m 1.1.1     \u001b[32m✔\u001b[39m \u001b[34myardstick   \u001b[39m 1.2.0\n",
      "\u001b[32m✔\u001b[39m \u001b[34mrecipes     \u001b[39m 1.0.8     \n",
      "\n",
      "── \u001b[1mConflicts\u001b[22m ───────────────────────────────────────── tidymodels_conflicts() ──\n",
      "\u001b[31m✖\u001b[39m \u001b[34mscales\u001b[39m::\u001b[32mdiscard()\u001b[39m masks \u001b[34mpurrr\u001b[39m::discard()\n",
      "\u001b[31m✖\u001b[39m \u001b[34mdplyr\u001b[39m::\u001b[32mfilter()\u001b[39m   masks \u001b[34mstats\u001b[39m::filter()\n",
      "\u001b[31m✖\u001b[39m \u001b[34mrecipes\u001b[39m::\u001b[32mfixed()\u001b[39m  masks \u001b[34mstringr\u001b[39m::fixed()\n",
      "\u001b[31m✖\u001b[39m \u001b[34mdplyr\u001b[39m::\u001b[32mlag()\u001b[39m      masks \u001b[34mstats\u001b[39m::lag()\n",
      "\u001b[31m✖\u001b[39m \u001b[34myardstick\u001b[39m::\u001b[32mspec()\u001b[39m masks \u001b[34mreadr\u001b[39m::spec()\n",
      "\u001b[31m✖\u001b[39m \u001b[34mrecipes\u001b[39m::\u001b[32mstep()\u001b[39m   masks \u001b[34mstats\u001b[39m::step()\n",
      "\u001b[34m•\u001b[39m Use suppressPackageStartupMessages() to eliminate package startup messages\n",
      "\n"
     ]
    }
   ],
   "source": [
    "library(tidyverse)\n",
    "library(repr)\n",
    "library(tidymodels)\n",
    "options(repr.matrix.max.rows = 6)"
   ]
  },
  {
   "cell_type": "code",
   "execution_count": 5,
   "id": "39cc7251-42e5-46f0-aded-4aa7dc613c76",
   "metadata": {},
   "outputs": [
    {
     "name": "stderr",
     "output_type": "stream",
     "text": [
      "\u001b[1mRows: \u001b[22m\u001b[34m920\u001b[39m \u001b[1mColumns: \u001b[22m\u001b[34m16\u001b[39m\n",
      "\u001b[36m──\u001b[39m \u001b[1mColumn specification\u001b[22m \u001b[36m────────────────────────────────────────────────────────\u001b[39m\n",
      "\u001b[1mDelimiter:\u001b[22m \",\"\n",
      "\u001b[31mchr\u001b[39m (6): sex, dataset, cp, restecg, slope, thal\n",
      "\u001b[32mdbl\u001b[39m (8): id, age, trestbps, chol, thalch, oldpeak, ca, num\n",
      "\u001b[33mlgl\u001b[39m (2): fbs, exang\n",
      "\n",
      "\u001b[36mℹ\u001b[39m Use `spec()` to retrieve the full column specification for this data.\n",
      "\u001b[36mℹ\u001b[39m Specify the column types or set `show_col_types = FALSE` to quiet this message.\n"
     ]
    },
    {
     "data": {
      "text/html": [
       "<table class=\"dataframe\">\n",
       "<caption>A spec_tbl_df: 920 × 16</caption>\n",
       "<thead>\n",
       "\t<tr><th scope=col>id</th><th scope=col>age</th><th scope=col>sex</th><th scope=col>dataset</th><th scope=col>cp</th><th scope=col>trestbps</th><th scope=col>chol</th><th scope=col>fbs</th><th scope=col>restecg</th><th scope=col>thalch</th><th scope=col>exang</th><th scope=col>oldpeak</th><th scope=col>slope</th><th scope=col>ca</th><th scope=col>thal</th><th scope=col>num</th></tr>\n",
       "\t<tr><th scope=col>&lt;dbl&gt;</th><th scope=col>&lt;dbl&gt;</th><th scope=col>&lt;chr&gt;</th><th scope=col>&lt;chr&gt;</th><th scope=col>&lt;chr&gt;</th><th scope=col>&lt;dbl&gt;</th><th scope=col>&lt;dbl&gt;</th><th scope=col>&lt;lgl&gt;</th><th scope=col>&lt;chr&gt;</th><th scope=col>&lt;dbl&gt;</th><th scope=col>&lt;lgl&gt;</th><th scope=col>&lt;dbl&gt;</th><th scope=col>&lt;chr&gt;</th><th scope=col>&lt;dbl&gt;</th><th scope=col>&lt;chr&gt;</th><th scope=col>&lt;dbl&gt;</th></tr>\n",
       "</thead>\n",
       "<tbody>\n",
       "\t<tr><td>1</td><td>63</td><td>Male</td><td>Cleveland</td><td>typical angina</td><td>145</td><td>233</td><td> TRUE</td><td>lv hypertrophy</td><td>150</td><td>FALSE</td><td>2.3</td><td>downsloping</td><td>0</td><td>fixed defect     </td><td>0</td></tr>\n",
       "\t<tr><td>2</td><td>67</td><td>Male</td><td>Cleveland</td><td>asymptomatic  </td><td>160</td><td>286</td><td>FALSE</td><td>lv hypertrophy</td><td>108</td><td> TRUE</td><td>1.5</td><td>flat       </td><td>3</td><td>normal           </td><td>2</td></tr>\n",
       "\t<tr><td>3</td><td>67</td><td>Male</td><td>Cleveland</td><td>asymptomatic  </td><td>120</td><td>229</td><td>FALSE</td><td>lv hypertrophy</td><td>129</td><td> TRUE</td><td>2.6</td><td>flat       </td><td>2</td><td>reversable defect</td><td>1</td></tr>\n",
       "\t<tr><td>⋮</td><td>⋮</td><td>⋮</td><td>⋮</td><td>⋮</td><td>⋮</td><td>⋮</td><td>⋮</td><td>⋮</td><td>⋮</td><td>⋮</td><td>⋮</td><td>⋮</td><td>⋮</td><td>⋮</td><td>⋮</td></tr>\n",
       "\t<tr><td>918</td><td>55</td><td>Male</td><td>VA Long Beach</td><td>asymptomatic   </td><td>122</td><td>223</td><td> TRUE</td><td>st-t abnormality</td><td>100</td><td>FALSE</td><td> 0</td><td>NA</td><td>NA</td><td>fixed defect</td><td>2</td></tr>\n",
       "\t<tr><td>919</td><td>58</td><td>Male</td><td>VA Long Beach</td><td>asymptomatic   </td><td> NA</td><td>385</td><td> TRUE</td><td>lv hypertrophy  </td><td> NA</td><td>   NA</td><td>NA</td><td>NA</td><td>NA</td><td>NA          </td><td>0</td></tr>\n",
       "\t<tr><td>920</td><td>62</td><td>Male</td><td>VA Long Beach</td><td>atypical angina</td><td>120</td><td>254</td><td>FALSE</td><td>lv hypertrophy  </td><td> 93</td><td> TRUE</td><td> 0</td><td>NA</td><td>NA</td><td>NA          </td><td>1</td></tr>\n",
       "</tbody>\n",
       "</table>\n"
      ],
      "text/latex": [
       "A spec\\_tbl\\_df: 920 × 16\n",
       "\\begin{tabular}{llllllllllllllll}\n",
       " id & age & sex & dataset & cp & trestbps & chol & fbs & restecg & thalch & exang & oldpeak & slope & ca & thal & num\\\\\n",
       " <dbl> & <dbl> & <chr> & <chr> & <chr> & <dbl> & <dbl> & <lgl> & <chr> & <dbl> & <lgl> & <dbl> & <chr> & <dbl> & <chr> & <dbl>\\\\\n",
       "\\hline\n",
       "\t 1 & 63 & Male & Cleveland & typical angina & 145 & 233 &  TRUE & lv hypertrophy & 150 & FALSE & 2.3 & downsloping & 0 & fixed defect      & 0\\\\\n",
       "\t 2 & 67 & Male & Cleveland & asymptomatic   & 160 & 286 & FALSE & lv hypertrophy & 108 &  TRUE & 1.5 & flat        & 3 & normal            & 2\\\\\n",
       "\t 3 & 67 & Male & Cleveland & asymptomatic   & 120 & 229 & FALSE & lv hypertrophy & 129 &  TRUE & 2.6 & flat        & 2 & reversable defect & 1\\\\\n",
       "\t ⋮ & ⋮ & ⋮ & ⋮ & ⋮ & ⋮ & ⋮ & ⋮ & ⋮ & ⋮ & ⋮ & ⋮ & ⋮ & ⋮ & ⋮ & ⋮\\\\\n",
       "\t 918 & 55 & Male & VA Long Beach & asymptomatic    & 122 & 223 &  TRUE & st-t abnormality & 100 & FALSE &  0 & NA & NA & fixed defect & 2\\\\\n",
       "\t 919 & 58 & Male & VA Long Beach & asymptomatic    &  NA & 385 &  TRUE & lv hypertrophy   &  NA &    NA & NA & NA & NA & NA           & 0\\\\\n",
       "\t 920 & 62 & Male & VA Long Beach & atypical angina & 120 & 254 & FALSE & lv hypertrophy   &  93 &  TRUE &  0 & NA & NA & NA           & 1\\\\\n",
       "\\end{tabular}\n"
      ],
      "text/markdown": [
       "\n",
       "A spec_tbl_df: 920 × 16\n",
       "\n",
       "| id &lt;dbl&gt; | age &lt;dbl&gt; | sex &lt;chr&gt; | dataset &lt;chr&gt; | cp &lt;chr&gt; | trestbps &lt;dbl&gt; | chol &lt;dbl&gt; | fbs &lt;lgl&gt; | restecg &lt;chr&gt; | thalch &lt;dbl&gt; | exang &lt;lgl&gt; | oldpeak &lt;dbl&gt; | slope &lt;chr&gt; | ca &lt;dbl&gt; | thal &lt;chr&gt; | num &lt;dbl&gt; |\n",
       "|---|---|---|---|---|---|---|---|---|---|---|---|---|---|---|---|\n",
       "| 1 | 63 | Male | Cleveland | typical angina | 145 | 233 |  TRUE | lv hypertrophy | 150 | FALSE | 2.3 | downsloping | 0 | fixed defect      | 0 |\n",
       "| 2 | 67 | Male | Cleveland | asymptomatic   | 160 | 286 | FALSE | lv hypertrophy | 108 |  TRUE | 1.5 | flat        | 3 | normal            | 2 |\n",
       "| 3 | 67 | Male | Cleveland | asymptomatic   | 120 | 229 | FALSE | lv hypertrophy | 129 |  TRUE | 2.6 | flat        | 2 | reversable defect | 1 |\n",
       "| ⋮ | ⋮ | ⋮ | ⋮ | ⋮ | ⋮ | ⋮ | ⋮ | ⋮ | ⋮ | ⋮ | ⋮ | ⋮ | ⋮ | ⋮ | ⋮ |\n",
       "| 918 | 55 | Male | VA Long Beach | asymptomatic    | 122 | 223 |  TRUE | st-t abnormality | 100 | FALSE |  0 | NA | NA | fixed defect | 2 |\n",
       "| 919 | 58 | Male | VA Long Beach | asymptomatic    |  NA | 385 |  TRUE | lv hypertrophy   |  NA |    NA | NA | NA | NA | NA           | 0 |\n",
       "| 920 | 62 | Male | VA Long Beach | atypical angina | 120 | 254 | FALSE | lv hypertrophy   |  93 |  TRUE |  0 | NA | NA | NA           | 1 |\n",
       "\n"
      ],
      "text/plain": [
       "    id  age sex  dataset       cp              trestbps chol fbs  \n",
       "1   1   63  Male Cleveland     typical angina  145      233   TRUE\n",
       "2   2   67  Male Cleveland     asymptomatic    160      286  FALSE\n",
       "3   3   67  Male Cleveland     asymptomatic    120      229  FALSE\n",
       "⋮   ⋮   ⋮   ⋮    ⋮             ⋮               ⋮        ⋮    ⋮    \n",
       "918 918 55  Male VA Long Beach asymptomatic    122      223   TRUE\n",
       "919 919 58  Male VA Long Beach asymptomatic     NA      385   TRUE\n",
       "920 920 62  Male VA Long Beach atypical angina 120      254  FALSE\n",
       "    restecg          thalch exang oldpeak slope       ca thal              num\n",
       "1   lv hypertrophy   150    FALSE 2.3     downsloping 0  fixed defect      0  \n",
       "2   lv hypertrophy   108     TRUE 1.5     flat        3  normal            2  \n",
       "3   lv hypertrophy   129     TRUE 2.6     flat        2  reversable defect 1  \n",
       "⋮   ⋮                ⋮      ⋮     ⋮       ⋮           ⋮  ⋮                 ⋮  \n",
       "918 st-t abnormality 100    FALSE  0      NA          NA fixed defect      2  \n",
       "919 lv hypertrophy    NA       NA NA      NA          NA NA                0  \n",
       "920 lv hypertrophy    93     TRUE  0      NA          NA NA                1  "
      ]
     },
     "metadata": {},
     "output_type": "display_data"
    }
   ],
   "source": [
    "set.seed(3456)\n",
    "url <- \"https://raw.githubusercontent.com/jenpari3/Heart_Group_Proposal/main/heart_disease_uci.csv\"\n",
    "heart_data <- read_csv(url)\n",
    "heart_data"
   ]
  },
  {
   "cell_type": "code",
   "execution_count": 12,
   "id": "aaf7b387-67f0-436e-9a8e-a80e6734ead3",
   "metadata": {},
   "outputs": [
    {
     "data": {
      "text/html": [
       "<table class=\"dataframe\">\n",
       "<caption>A tibble: 304 × 5</caption>\n",
       "<thead>\n",
       "\t<tr><th scope=col>age</th><th scope=col>dataset</th><th scope=col>trestbps</th><th scope=col>chol</th><th scope=col>num</th></tr>\n",
       "\t<tr><th scope=col>&lt;dbl&gt;</th><th scope=col>&lt;chr&gt;</th><th scope=col>&lt;dbl&gt;</th><th scope=col>&lt;dbl&gt;</th><th scope=col>&lt;dbl&gt;</th></tr>\n",
       "</thead>\n",
       "<tbody>\n",
       "\t<tr><td>63</td><td>Cleveland</td><td>145</td><td>233</td><td>0</td></tr>\n",
       "\t<tr><td>67</td><td>Cleveland</td><td>160</td><td>286</td><td>2</td></tr>\n",
       "\t<tr><td>67</td><td>Cleveland</td><td>120</td><td>229</td><td>1</td></tr>\n",
       "\t<tr><td>⋮</td><td>⋮</td><td>⋮</td><td>⋮</td><td>⋮</td></tr>\n",
       "\t<tr><td>57</td><td>Cleveland</td><td>130</td><td>236</td><td>1</td></tr>\n",
       "\t<tr><td>38</td><td>Cleveland</td><td>138</td><td>175</td><td>0</td></tr>\n",
       "\t<tr><td>28</td><td>Cleveland</td><td>130</td><td>132</td><td>0</td></tr>\n",
       "</tbody>\n",
       "</table>\n"
      ],
      "text/latex": [
       "A tibble: 304 × 5\n",
       "\\begin{tabular}{lllll}\n",
       " age & dataset & trestbps & chol & num\\\\\n",
       " <dbl> & <chr> & <dbl> & <dbl> & <dbl>\\\\\n",
       "\\hline\n",
       "\t 63 & Cleveland & 145 & 233 & 0\\\\\n",
       "\t 67 & Cleveland & 160 & 286 & 2\\\\\n",
       "\t 67 & Cleveland & 120 & 229 & 1\\\\\n",
       "\t ⋮ & ⋮ & ⋮ & ⋮ & ⋮\\\\\n",
       "\t 57 & Cleveland & 130 & 236 & 1\\\\\n",
       "\t 38 & Cleveland & 138 & 175 & 0\\\\\n",
       "\t 28 & Cleveland & 130 & 132 & 0\\\\\n",
       "\\end{tabular}\n"
      ],
      "text/markdown": [
       "\n",
       "A tibble: 304 × 5\n",
       "\n",
       "| age &lt;dbl&gt; | dataset &lt;chr&gt; | trestbps &lt;dbl&gt; | chol &lt;dbl&gt; | num &lt;dbl&gt; |\n",
       "|---|---|---|---|---|\n",
       "| 63 | Cleveland | 145 | 233 | 0 |\n",
       "| 67 | Cleveland | 160 | 286 | 2 |\n",
       "| 67 | Cleveland | 120 | 229 | 1 |\n",
       "| ⋮ | ⋮ | ⋮ | ⋮ | ⋮ |\n",
       "| 57 | Cleveland | 130 | 236 | 1 |\n",
       "| 38 | Cleveland | 138 | 175 | 0 |\n",
       "| 28 | Cleveland | 130 | 132 | 0 |\n",
       "\n"
      ],
      "text/plain": [
       "    age dataset   trestbps chol num\n",
       "1   63  Cleveland 145      233  0  \n",
       "2   67  Cleveland 160      286  2  \n",
       "3   67  Cleveland 120      229  1  \n",
       "⋮   ⋮   ⋮         ⋮        ⋮    ⋮  \n",
       "302 57  Cleveland 130      236  1  \n",
       "303 38  Cleveland 138      175  0  \n",
       "304 28  Cleveland 130      132  0  "
      ]
     },
     "metadata": {},
     "output_type": "display_data"
    }
   ],
   "source": [
    "# select the columns that we want to use\n",
    "heart_data_wrangled <- select(heart_data, age, dataset, trestbps, chol, num) |>\n",
    "    filter(dataset == \"Cleveland\")\n",
    "heart_data_wrangled"
   ]
  },
  {
   "cell_type": "code",
   "execution_count": null,
   "id": "33cff448-6a9b-4d43-9619-fecdf7ffc72f",
   "metadata": {},
   "outputs": [],
   "source": []
  },
  {
   "cell_type": "markdown",
   "id": "4815bc20-0ab4-4d53-bc02-b2cc9431c3bb",
   "metadata": {},
   "source": [
    "#### *Explanation to Why These Columns are Selected*\n",
    "- We selected these columns because\n",
    "\n",
    "#### *What do you expect to find?*"
   ]
  },
  {
   "cell_type": "markdown",
   "id": "681d4884-f5b1-4e2e-b5c8-83cc46a5bb8d",
   "metadata": {},
   "source": [
    "### *Preliminary exploratory data analysis*"
   ]
  },
  {
   "cell_type": "code",
   "execution_count": 13,
   "id": "17060eb7-97e6-42fd-8cff-d5d2636572ef",
   "metadata": {},
   "outputs": [
    {
     "data": {
      "text/html": [
       "<table class=\"dataframe\">\n",
       "<caption>A tibble: 227 × 5</caption>\n",
       "<thead>\n",
       "\t<tr><th scope=col>age</th><th scope=col>dataset</th><th scope=col>trestbps</th><th scope=col>chol</th><th scope=col>num</th></tr>\n",
       "\t<tr><th scope=col>&lt;dbl&gt;</th><th scope=col>&lt;chr&gt;</th><th scope=col>&lt;dbl&gt;</th><th scope=col>&lt;dbl&gt;</th><th scope=col>&lt;dbl&gt;</th></tr>\n",
       "</thead>\n",
       "<tbody>\n",
       "\t<tr><td>63</td><td>Cleveland</td><td>145</td><td>233</td><td>0</td></tr>\n",
       "\t<tr><td>41</td><td>Cleveland</td><td>130</td><td>204</td><td>0</td></tr>\n",
       "\t<tr><td>56</td><td>Cleveland</td><td>120</td><td>236</td><td>0</td></tr>\n",
       "\t<tr><td>⋮</td><td>⋮</td><td>⋮</td><td>⋮</td><td>⋮</td></tr>\n",
       "\t<tr><td>58</td><td>Cleveland</td><td>136</td><td>319</td><td>3</td></tr>\n",
       "\t<tr><td>55</td><td>Cleveland</td><td>128</td><td>205</td><td>3</td></tr>\n",
       "\t<tr><td>59</td><td>Cleveland</td><td>164</td><td>176</td><td>3</td></tr>\n",
       "</tbody>\n",
       "</table>\n"
      ],
      "text/latex": [
       "A tibble: 227 × 5\n",
       "\\begin{tabular}{lllll}\n",
       " age & dataset & trestbps & chol & num\\\\\n",
       " <dbl> & <chr> & <dbl> & <dbl> & <dbl>\\\\\n",
       "\\hline\n",
       "\t 63 & Cleveland & 145 & 233 & 0\\\\\n",
       "\t 41 & Cleveland & 130 & 204 & 0\\\\\n",
       "\t 56 & Cleveland & 120 & 236 & 0\\\\\n",
       "\t ⋮ & ⋮ & ⋮ & ⋮ & ⋮\\\\\n",
       "\t 58 & Cleveland & 136 & 319 & 3\\\\\n",
       "\t 55 & Cleveland & 128 & 205 & 3\\\\\n",
       "\t 59 & Cleveland & 164 & 176 & 3\\\\\n",
       "\\end{tabular}\n"
      ],
      "text/markdown": [
       "\n",
       "A tibble: 227 × 5\n",
       "\n",
       "| age &lt;dbl&gt; | dataset &lt;chr&gt; | trestbps &lt;dbl&gt; | chol &lt;dbl&gt; | num &lt;dbl&gt; |\n",
       "|---|---|---|---|---|\n",
       "| 63 | Cleveland | 145 | 233 | 0 |\n",
       "| 41 | Cleveland | 130 | 204 | 0 |\n",
       "| 56 | Cleveland | 120 | 236 | 0 |\n",
       "| ⋮ | ⋮ | ⋮ | ⋮ | ⋮ |\n",
       "| 58 | Cleveland | 136 | 319 | 3 |\n",
       "| 55 | Cleveland | 128 | 205 | 3 |\n",
       "| 59 | Cleveland | 164 | 176 | 3 |\n",
       "\n"
      ],
      "text/plain": [
       "    age dataset   trestbps chol num\n",
       "1   63  Cleveland 145      233  0  \n",
       "2   41  Cleveland 130      204  0  \n",
       "3   56  Cleveland 120      236  0  \n",
       "⋮   ⋮   ⋮         ⋮        ⋮    ⋮  \n",
       "225 58  Cleveland 136      319  3  \n",
       "226 55  Cleveland 128      205  3  \n",
       "227 59  Cleveland 164      176  3  "
      ]
     },
     "metadata": {},
     "output_type": "display_data"
    }
   ],
   "source": [
    "#training data\n",
    "heart_data_split <- initial_split(heart_data_wrangled, prop = 0.75, strata = num)\n",
    "heart_data_training <- training(heart_data_split)\n",
    "heart_data_training"
   ]
  },
  {
   "cell_type": "code",
   "execution_count": 16,
   "id": "18d2f2a3-0e5d-4427-a63c-bbe2b31eb222",
   "metadata": {},
   "outputs": [
    {
     "data": {
      "text/html": [
       "<table class=\"dataframe\">\n",
       "<caption>A tibble: 1 × 3</caption>\n",
       "<thead>\n",
       "\t<tr><th scope=col>age_mean</th><th scope=col>chol_mean</th><th scope=col>trestbps_mean</th></tr>\n",
       "\t<tr><th scope=col>&lt;dbl&gt;</th><th scope=col>&lt;dbl&gt;</th><th scope=col>&lt;dbl&gt;</th></tr>\n",
       "</thead>\n",
       "<tbody>\n",
       "\t<tr><td>54.49339</td><td>246.0485</td><td>131.7533</td></tr>\n",
       "</tbody>\n",
       "</table>\n"
      ],
      "text/latex": [
       "A tibble: 1 × 3\n",
       "\\begin{tabular}{lll}\n",
       " age\\_mean & chol\\_mean & trestbps\\_mean\\\\\n",
       " <dbl> & <dbl> & <dbl>\\\\\n",
       "\\hline\n",
       "\t 54.49339 & 246.0485 & 131.7533\\\\\n",
       "\\end{tabular}\n"
      ],
      "text/markdown": [
       "\n",
       "A tibble: 1 × 3\n",
       "\n",
       "| age_mean &lt;dbl&gt; | chol_mean &lt;dbl&gt; | trestbps_mean &lt;dbl&gt; |\n",
       "|---|---|---|\n",
       "| 54.49339 | 246.0485 | 131.7533 |\n",
       "\n"
      ],
      "text/plain": [
       "  age_mean chol_mean trestbps_mean\n",
       "1 54.49339 246.0485  131.7533     "
      ]
     },
     "metadata": {},
     "output_type": "display_data"
    },
    {
     "data": {
      "text/html": [
       "<table class=\"dataframe\">\n",
       "<caption>A tibble: 5 × 2</caption>\n",
       "<thead>\n",
       "\t<tr><th scope=col>num</th><th scope=col>count</th></tr>\n",
       "\t<tr><th scope=col>&lt;dbl&gt;</th><th scope=col>&lt;int&gt;</th></tr>\n",
       "</thead>\n",
       "<tbody>\n",
       "\t<tr><td>0</td><td>123</td></tr>\n",
       "\t<tr><td>1</td><td> 41</td></tr>\n",
       "\t<tr><td>2</td><td> 27</td></tr>\n",
       "\t<tr><td>3</td><td> 26</td></tr>\n",
       "\t<tr><td>4</td><td> 10</td></tr>\n",
       "</tbody>\n",
       "</table>\n"
      ],
      "text/latex": [
       "A tibble: 5 × 2\n",
       "\\begin{tabular}{ll}\n",
       " num & count\\\\\n",
       " <dbl> & <int>\\\\\n",
       "\\hline\n",
       "\t 0 & 123\\\\\n",
       "\t 1 &  41\\\\\n",
       "\t 2 &  27\\\\\n",
       "\t 3 &  26\\\\\n",
       "\t 4 &  10\\\\\n",
       "\\end{tabular}\n"
      ],
      "text/markdown": [
       "\n",
       "A tibble: 5 × 2\n",
       "\n",
       "| num &lt;dbl&gt; | count &lt;int&gt; |\n",
       "|---|---|\n",
       "| 0 | 123 |\n",
       "| 1 |  41 |\n",
       "| 2 |  27 |\n",
       "| 3 |  26 |\n",
       "| 4 |  10 |\n",
       "\n"
      ],
      "text/plain": [
       "  num count\n",
       "1 0   123  \n",
       "2 1    41  \n",
       "3 2    27  \n",
       "4 3    26  \n",
       "5 4    10  "
      ]
     },
     "metadata": {},
     "output_type": "display_data"
    },
    {
     "data": {
      "text/html": [
       "<table class=\"dataframe\">\n",
       "<caption>A tibble: 1 × 1</caption>\n",
       "<thead>\n",
       "\t<tr><th scope=col>n</th></tr>\n",
       "\t<tr><th scope=col>&lt;int&gt;</th></tr>\n",
       "</thead>\n",
       "<tbody>\n",
       "\t<tr><td>0</td></tr>\n",
       "</tbody>\n",
       "</table>\n"
      ],
      "text/latex": [
       "A tibble: 1 × 1\n",
       "\\begin{tabular}{l}\n",
       " n\\\\\n",
       " <int>\\\\\n",
       "\\hline\n",
       "\t 0\\\\\n",
       "\\end{tabular}\n"
      ],
      "text/markdown": [
       "\n",
       "A tibble: 1 × 1\n",
       "\n",
       "| n &lt;int&gt; |\n",
       "|---|\n",
       "| 0 |\n",
       "\n"
      ],
      "text/plain": [
       "  n\n",
       "1 0"
      ]
     },
     "metadata": {},
     "output_type": "display_data"
    }
   ],
   "source": [
    "# mean of selected predictors\n",
    "heart_data_mean <- summarize(heart_data_training, \n",
    "                             age_mean = mean(age),\n",
    "                             chol_mean = mean(chol), \n",
    "                             trestbps_mean = mean(trestbps))\n",
    "heart_data_mean\n",
    "\n",
    "# number of observations for each class\n",
    "heart_data_observations <- group_by(heart_data_training, num) |>\n",
    "    summarize(count = n())\n",
    "heart_data_observations\n",
    "\n",
    "# rows with missing data\n",
    "heart_data_missing <- filter(heart_data_training, is.na(trestbps) & is.na(chol) & is.na(num)) |>\n",
    "    count()\n",
    "heart_data_missing\n"
   ]
  },
  {
   "cell_type": "code",
   "execution_count": 17,
   "id": "0285df86-5897-4eca-94a0-3be73a4349a7",
   "metadata": {},
   "outputs": [],
   "source": [
    "#graph for summarized data"
   ]
  },
  {
   "cell_type": "code",
   "execution_count": null,
   "id": "4bdd8834-7804-4a8e-9167-158d25017f52",
   "metadata": {},
   "outputs": [],
   "source": [
    "# scaling data\n",
    "#heart_data_scaled <- heart_data_training |> \n",
    "#mutate(scaled_trestbps = scale(trestbps, center = TRUE), \n",
    "#        scaled_chol = scale(chol, center = TRUE))\n",
    "#heart_data_scaled"
   ]
  },
  {
   "cell_type": "code",
   "execution_count": 2,
   "id": "f448fda4-ea19-4f9c-be1a-a690b4987c5c",
   "metadata": {},
   "outputs": [],
   "source": [
    "# Data Visualization\n",
    "#heart_visual <- heart_data_scaled |>\n",
    "#    ggplot(aes(x = scaled_trestbps, y = scaled_chol, colour = target)) +\n",
    "#    geom_point() +\n",
    "#    labs(x = \"Rest Blood Pressure (mm Hg)\", y = \"Serum Cholestoral (mg/dl)\")\n",
    "#heart_visual"
   ]
  },
  {
   "cell_type": "markdown",
   "id": "6edf47b4-87c4-423d-8ba2-4fe5e94df7ba",
   "metadata": {},
   "source": []
  },
  {
   "cell_type": "markdown",
   "id": "2c77be57-8a2d-489d-a921-067676afe94c",
   "metadata": {},
   "source": [
    "### *Methods*"
   ]
  },
  {
   "cell_type": "code",
   "execution_count": null,
   "id": "c824f055-85b9-4020-bd9a-67f3e905bc15",
   "metadata": {},
   "outputs": [],
   "source": []
  },
  {
   "cell_type": "markdown",
   "id": "171c28e0-5144-4c11-b868-51c4dff68758",
   "metadata": {},
   "source": [
    "### *Expected outcomes and significance*"
   ]
  },
  {
   "cell_type": "markdown",
   "id": "1c540737-e1b7-4b1f-b491-7307ec5cb544",
   "metadata": {},
   "source": [
    "- What impacts could such findings have?\n",
    "- What future questions could this lead to?"
   ]
  },
  {
   "cell_type": "code",
   "execution_count": null,
   "id": "426e6151-e910-41f4-9ffe-d0ea54505348",
   "metadata": {},
   "outputs": [],
   "source": []
  }
 ],
 "metadata": {
  "kernelspec": {
   "display_name": "R",
   "language": "R",
   "name": "ir"
  },
  "language_info": {
   "codemirror_mode": "r",
   "file_extension": ".r",
   "mimetype": "text/x-r-source",
   "name": "R",
   "pygments_lexer": "r",
   "version": "4.3.1"
  }
 },
 "nbformat": 4,
 "nbformat_minor": 5
}
