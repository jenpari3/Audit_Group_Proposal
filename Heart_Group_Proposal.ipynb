{
 "cells": [
  {
   "cell_type": "markdown",
   "id": "05567f4f-ca3d-4dbd-9cf3-3aa15740f441",
   "metadata": {},
   "source": [
    "# Title: Heart Disease ....."
   ]
  },
  {
   "cell_type": "markdown",
   "id": "f8de5103-80ff-453c-88c3-ac04c47a872c",
   "metadata": {},
   "source": [
    "### *Introduction*\n",
    "- ...\n",
    "- Provide some relevant background information on the topic so that someone unfamiliar with it will be prepared to understand the rest of your proposal\n",
    "- Clearly state the question you will try to answer with your project\n",
    "- Identify and describe the dataset that will be used to answer the question"
   ]
  },
  {
   "cell_type": "code",
   "execution_count": 7,
   "id": "470419ee-00e9-4860-bb67-5641425c2442",
   "metadata": {},
   "outputs": [
    {
     "name": "stderr",
     "output_type": "stream",
     "text": [
      "── \u001b[1mAttaching packages\u001b[22m ────────────────────────────────────── tidymodels 1.1.1 ──\n",
      "\n",
      "\u001b[32m✔\u001b[39m \u001b[34mbroom       \u001b[39m 1.0.5     \u001b[32m✔\u001b[39m \u001b[34mrsample     \u001b[39m 1.2.0\n",
      "\u001b[32m✔\u001b[39m \u001b[34mdials       \u001b[39m 1.2.0     \u001b[32m✔\u001b[39m \u001b[34mtune        \u001b[39m 1.1.2\n",
      "\u001b[32m✔\u001b[39m \u001b[34minfer       \u001b[39m 1.0.5     \u001b[32m✔\u001b[39m \u001b[34mworkflows   \u001b[39m 1.1.3\n",
      "\u001b[32m✔\u001b[39m \u001b[34mmodeldata   \u001b[39m 1.2.0     \u001b[32m✔\u001b[39m \u001b[34mworkflowsets\u001b[39m 1.0.1\n",
      "\u001b[32m✔\u001b[39m \u001b[34mparsnip     \u001b[39m 1.1.1     \u001b[32m✔\u001b[39m \u001b[34myardstick   \u001b[39m 1.2.0\n",
      "\u001b[32m✔\u001b[39m \u001b[34mrecipes     \u001b[39m 1.0.8     \n",
      "\n",
      "── \u001b[1mConflicts\u001b[22m ───────────────────────────────────────── tidymodels_conflicts() ──\n",
      "\u001b[31m✖\u001b[39m \u001b[34mscales\u001b[39m::\u001b[32mdiscard()\u001b[39m masks \u001b[34mpurrr\u001b[39m::discard()\n",
      "\u001b[31m✖\u001b[39m \u001b[34mdplyr\u001b[39m::\u001b[32mfilter()\u001b[39m   masks \u001b[34mstats\u001b[39m::filter()\n",
      "\u001b[31m✖\u001b[39m \u001b[34mrecipes\u001b[39m::\u001b[32mfixed()\u001b[39m  masks \u001b[34mstringr\u001b[39m::fixed()\n",
      "\u001b[31m✖\u001b[39m \u001b[34mdplyr\u001b[39m::\u001b[32mlag()\u001b[39m      masks \u001b[34mstats\u001b[39m::lag()\n",
      "\u001b[31m✖\u001b[39m \u001b[34myardstick\u001b[39m::\u001b[32mspec()\u001b[39m masks \u001b[34mreadr\u001b[39m::spec()\n",
      "\u001b[31m✖\u001b[39m \u001b[34mrecipes\u001b[39m::\u001b[32mstep()\u001b[39m   masks \u001b[34mstats\u001b[39m::step()\n",
      "\u001b[34m•\u001b[39m Learn how to get started at \u001b[32mhttps://www.tidymodels.org/start/\u001b[39m\n",
      "\n"
     ]
    }
   ],
   "source": [
    "library(tidyverse)\n",
    "library(repr)\n",
    "library(tidymodels)\n",
    "options(repr.matrix.max.rows = 6)"
   ]
  },
  {
   "cell_type": "code",
   "execution_count": 8,
   "id": "39cc7251-42e5-46f0-aded-4aa7dc613c76",
   "metadata": {},
   "outputs": [
    {
     "name": "stderr",
     "output_type": "stream",
     "text": [
      "\u001b[1mRows: \u001b[22m\u001b[34m1025\u001b[39m \u001b[1mColumns: \u001b[22m\u001b[34m14\u001b[39m\n",
      "\u001b[36m──\u001b[39m \u001b[1mColumn specification\u001b[22m \u001b[36m────────────────────────────────────────────────────────\u001b[39m\n",
      "\u001b[1mDelimiter:\u001b[22m \",\"\n",
      "\u001b[32mdbl\u001b[39m (14): age, sex, cp, trestbps, chol, fbs, restecg, thalach, exang, oldpea...\n",
      "\n",
      "\u001b[36mℹ\u001b[39m Use `spec()` to retrieve the full column specification for this data.\n",
      "\u001b[36mℹ\u001b[39m Specify the column types or set `show_col_types = FALSE` to quiet this message.\n"
     ]
    },
    {
     "data": {
      "text/html": [
       "<table class=\"dataframe\">\n",
       "<caption>A spec_tbl_df: 1025 × 14</caption>\n",
       "<thead>\n",
       "\t<tr><th scope=col>age</th><th scope=col>sex</th><th scope=col>cp</th><th scope=col>trestbps</th><th scope=col>chol</th><th scope=col>fbs</th><th scope=col>restecg</th><th scope=col>thalach</th><th scope=col>exang</th><th scope=col>oldpeak</th><th scope=col>slope</th><th scope=col>ca</th><th scope=col>thal</th><th scope=col>target</th></tr>\n",
       "\t<tr><th scope=col>&lt;dbl&gt;</th><th scope=col>&lt;dbl&gt;</th><th scope=col>&lt;dbl&gt;</th><th scope=col>&lt;dbl&gt;</th><th scope=col>&lt;dbl&gt;</th><th scope=col>&lt;dbl&gt;</th><th scope=col>&lt;dbl&gt;</th><th scope=col>&lt;dbl&gt;</th><th scope=col>&lt;dbl&gt;</th><th scope=col>&lt;dbl&gt;</th><th scope=col>&lt;dbl&gt;</th><th scope=col>&lt;dbl&gt;</th><th scope=col>&lt;dbl&gt;</th><th scope=col>&lt;dbl&gt;</th></tr>\n",
       "</thead>\n",
       "<tbody>\n",
       "\t<tr><td>52</td><td>1</td><td>0</td><td>125</td><td>212</td><td>0</td><td>1</td><td>168</td><td>0</td><td>1.0</td><td>2</td><td>2</td><td>3</td><td>0</td></tr>\n",
       "\t<tr><td>53</td><td>1</td><td>0</td><td>140</td><td>203</td><td>1</td><td>0</td><td>155</td><td>1</td><td>3.1</td><td>0</td><td>0</td><td>3</td><td>0</td></tr>\n",
       "\t<tr><td>70</td><td>1</td><td>0</td><td>145</td><td>174</td><td>0</td><td>1</td><td>125</td><td>1</td><td>2.6</td><td>0</td><td>0</td><td>3</td><td>0</td></tr>\n",
       "\t<tr><td>⋮</td><td>⋮</td><td>⋮</td><td>⋮</td><td>⋮</td><td>⋮</td><td>⋮</td><td>⋮</td><td>⋮</td><td>⋮</td><td>⋮</td><td>⋮</td><td>⋮</td><td>⋮</td></tr>\n",
       "\t<tr><td>47</td><td>1</td><td>0</td><td>110</td><td>275</td><td>0</td><td>0</td><td>118</td><td>1</td><td>1.0</td><td>1</td><td>1</td><td>2</td><td>0</td></tr>\n",
       "\t<tr><td>50</td><td>0</td><td>0</td><td>110</td><td>254</td><td>0</td><td>0</td><td>159</td><td>0</td><td>0.0</td><td>2</td><td>0</td><td>2</td><td>1</td></tr>\n",
       "\t<tr><td>54</td><td>1</td><td>0</td><td>120</td><td>188</td><td>0</td><td>1</td><td>113</td><td>0</td><td>1.4</td><td>1</td><td>1</td><td>3</td><td>0</td></tr>\n",
       "</tbody>\n",
       "</table>\n"
      ],
      "text/latex": [
       "A spec\\_tbl\\_df: 1025 × 14\n",
       "\\begin{tabular}{llllllllllllll}\n",
       " age & sex & cp & trestbps & chol & fbs & restecg & thalach & exang & oldpeak & slope & ca & thal & target\\\\\n",
       " <dbl> & <dbl> & <dbl> & <dbl> & <dbl> & <dbl> & <dbl> & <dbl> & <dbl> & <dbl> & <dbl> & <dbl> & <dbl> & <dbl>\\\\\n",
       "\\hline\n",
       "\t 52 & 1 & 0 & 125 & 212 & 0 & 1 & 168 & 0 & 1.0 & 2 & 2 & 3 & 0\\\\\n",
       "\t 53 & 1 & 0 & 140 & 203 & 1 & 0 & 155 & 1 & 3.1 & 0 & 0 & 3 & 0\\\\\n",
       "\t 70 & 1 & 0 & 145 & 174 & 0 & 1 & 125 & 1 & 2.6 & 0 & 0 & 3 & 0\\\\\n",
       "\t ⋮ & ⋮ & ⋮ & ⋮ & ⋮ & ⋮ & ⋮ & ⋮ & ⋮ & ⋮ & ⋮ & ⋮ & ⋮ & ⋮\\\\\n",
       "\t 47 & 1 & 0 & 110 & 275 & 0 & 0 & 118 & 1 & 1.0 & 1 & 1 & 2 & 0\\\\\n",
       "\t 50 & 0 & 0 & 110 & 254 & 0 & 0 & 159 & 0 & 0.0 & 2 & 0 & 2 & 1\\\\\n",
       "\t 54 & 1 & 0 & 120 & 188 & 0 & 1 & 113 & 0 & 1.4 & 1 & 1 & 3 & 0\\\\\n",
       "\\end{tabular}\n"
      ],
      "text/markdown": [
       "\n",
       "A spec_tbl_df: 1025 × 14\n",
       "\n",
       "| age &lt;dbl&gt; | sex &lt;dbl&gt; | cp &lt;dbl&gt; | trestbps &lt;dbl&gt; | chol &lt;dbl&gt; | fbs &lt;dbl&gt; | restecg &lt;dbl&gt; | thalach &lt;dbl&gt; | exang &lt;dbl&gt; | oldpeak &lt;dbl&gt; | slope &lt;dbl&gt; | ca &lt;dbl&gt; | thal &lt;dbl&gt; | target &lt;dbl&gt; |\n",
       "|---|---|---|---|---|---|---|---|---|---|---|---|---|---|\n",
       "| 52 | 1 | 0 | 125 | 212 | 0 | 1 | 168 | 0 | 1.0 | 2 | 2 | 3 | 0 |\n",
       "| 53 | 1 | 0 | 140 | 203 | 1 | 0 | 155 | 1 | 3.1 | 0 | 0 | 3 | 0 |\n",
       "| 70 | 1 | 0 | 145 | 174 | 0 | 1 | 125 | 1 | 2.6 | 0 | 0 | 3 | 0 |\n",
       "| ⋮ | ⋮ | ⋮ | ⋮ | ⋮ | ⋮ | ⋮ | ⋮ | ⋮ | ⋮ | ⋮ | ⋮ | ⋮ | ⋮ |\n",
       "| 47 | 1 | 0 | 110 | 275 | 0 | 0 | 118 | 1 | 1.0 | 1 | 1 | 2 | 0 |\n",
       "| 50 | 0 | 0 | 110 | 254 | 0 | 0 | 159 | 0 | 0.0 | 2 | 0 | 2 | 1 |\n",
       "| 54 | 1 | 0 | 120 | 188 | 0 | 1 | 113 | 0 | 1.4 | 1 | 1 | 3 | 0 |\n",
       "\n"
      ],
      "text/plain": [
       "     age sex cp trestbps chol fbs restecg thalach exang oldpeak slope ca thal\n",
       "1    52  1   0  125      212  0   1       168     0     1.0     2     2  3   \n",
       "2    53  1   0  140      203  1   0       155     1     3.1     0     0  3   \n",
       "3    70  1   0  145      174  0   1       125     1     2.6     0     0  3   \n",
       "⋮    ⋮   ⋮   ⋮  ⋮        ⋮    ⋮   ⋮       ⋮       ⋮     ⋮       ⋮     ⋮  ⋮   \n",
       "1023 47  1   0  110      275  0   0       118     1     1.0     1     1  2   \n",
       "1024 50  0   0  110      254  0   0       159     0     0.0     2     0  2   \n",
       "1025 54  1   0  120      188  0   1       113     0     1.4     1     1  3   \n",
       "     target\n",
       "1    0     \n",
       "2    0     \n",
       "3    0     \n",
       "⋮    ⋮     \n",
       "1023 0     \n",
       "1024 1     \n",
       "1025 0     "
      ]
     },
     "metadata": {},
     "output_type": "display_data"
    }
   ],
   "source": [
    "set.seed(3456)\n",
    "heart_data <- read_csv(\"data/heart.csv\")\n",
    "heart_data"
   ]
  },
  {
   "cell_type": "code",
   "execution_count": 9,
   "id": "aaf7b387-67f0-436e-9a8e-a80e6734ead3",
   "metadata": {},
   "outputs": [
    {
     "data": {
      "text/html": [
       "<table class=\"dataframe\">\n",
       "<caption>A tibble: 1025 × 3</caption>\n",
       "<thead>\n",
       "\t<tr><th scope=col>trestbps</th><th scope=col>chol</th><th scope=col>target</th></tr>\n",
       "\t<tr><th scope=col>&lt;dbl&gt;</th><th scope=col>&lt;dbl&gt;</th><th scope=col>&lt;dbl&gt;</th></tr>\n",
       "</thead>\n",
       "<tbody>\n",
       "\t<tr><td>125</td><td>212</td><td>0</td></tr>\n",
       "\t<tr><td>140</td><td>203</td><td>0</td></tr>\n",
       "\t<tr><td>145</td><td>174</td><td>0</td></tr>\n",
       "\t<tr><td>⋮</td><td>⋮</td><td>⋮</td></tr>\n",
       "\t<tr><td>110</td><td>275</td><td>0</td></tr>\n",
       "\t<tr><td>110</td><td>254</td><td>1</td></tr>\n",
       "\t<tr><td>120</td><td>188</td><td>0</td></tr>\n",
       "</tbody>\n",
       "</table>\n"
      ],
      "text/latex": [
       "A tibble: 1025 × 3\n",
       "\\begin{tabular}{lll}\n",
       " trestbps & chol & target\\\\\n",
       " <dbl> & <dbl> & <dbl>\\\\\n",
       "\\hline\n",
       "\t 125 & 212 & 0\\\\\n",
       "\t 140 & 203 & 0\\\\\n",
       "\t 145 & 174 & 0\\\\\n",
       "\t ⋮ & ⋮ & ⋮\\\\\n",
       "\t 110 & 275 & 0\\\\\n",
       "\t 110 & 254 & 1\\\\\n",
       "\t 120 & 188 & 0\\\\\n",
       "\\end{tabular}\n"
      ],
      "text/markdown": [
       "\n",
       "A tibble: 1025 × 3\n",
       "\n",
       "| trestbps &lt;dbl&gt; | chol &lt;dbl&gt; | target &lt;dbl&gt; |\n",
       "|---|---|---|\n",
       "| 125 | 212 | 0 |\n",
       "| 140 | 203 | 0 |\n",
       "| 145 | 174 | 0 |\n",
       "| ⋮ | ⋮ | ⋮ |\n",
       "| 110 | 275 | 0 |\n",
       "| 110 | 254 | 1 |\n",
       "| 120 | 188 | 0 |\n",
       "\n"
      ],
      "text/plain": [
       "     trestbps chol target\n",
       "1    125      212  0     \n",
       "2    140      203  0     \n",
       "3    145      174  0     \n",
       "⋮    ⋮        ⋮    ⋮     \n",
       "1023 110      275  0     \n",
       "1024 110      254  1     \n",
       "1025 120      188  0     "
      ]
     },
     "metadata": {},
     "output_type": "display_data"
    }
   ],
   "source": [
    "# select the columns that we want to use\n",
    "heart_data_selected <- select(heart_data, trestbps, chol, target)\n",
    "heart_data_selected"
   ]
  },
  {
   "cell_type": "code",
   "execution_count": 22,
   "id": "33cff448-6a9b-4d43-9619-fecdf7ffc72f",
   "metadata": {},
   "outputs": [
    {
     "data": {
      "text/html": [
       "<table class=\"dataframe\">\n",
       "<caption>A tibble: 1025 × 5</caption>\n",
       "<thead>\n",
       "\t<tr><th scope=col>trestbps</th><th scope=col>chol</th><th scope=col>target</th><th scope=col>scaled_trestbps</th><th scope=col>scaled_chol</th></tr>\n",
       "\t<tr><th scope=col>&lt;dbl&gt;</th><th scope=col>&lt;dbl&gt;</th><th scope=col>&lt;dbl&gt;</th><th scope=col>&lt;dbl[,1]&gt;</th><th scope=col>&lt;dbl[,1]&gt;</th></tr>\n",
       "</thead>\n",
       "<tbody>\n",
       "\t<tr><td>125</td><td>212</td><td>0</td><td>-0.3774513</td><td>-0.6590104</td></tr>\n",
       "\t<tr><td>140</td><td>203</td><td>0</td><td> 0.4788735</td><td>-0.8334543</td></tr>\n",
       "\t<tr><td>145</td><td>174</td><td>0</td><td> 0.7643151</td><td>-1.3955514</td></tr>\n",
       "\t<tr><td>⋮</td><td>⋮</td><td>⋮</td><td>⋮</td><td>⋮</td></tr>\n",
       "\t<tr><td>110</td><td>275</td><td>0</td><td>-1.2337761</td><td> 0.5620971</td></tr>\n",
       "\t<tr><td>110</td><td>254</td><td>1</td><td>-1.2337761</td><td> 0.1550613</td></tr>\n",
       "\t<tr><td>120</td><td>188</td><td>0</td><td>-0.6628929</td><td>-1.1241942</td></tr>\n",
       "</tbody>\n",
       "</table>\n"
      ],
      "text/latex": [
       "A tibble: 1025 × 5\n",
       "\\begin{tabular}{lllll}\n",
       " trestbps & chol & target & scaled\\_trestbps & scaled\\_chol\\\\\n",
       " <dbl> & <dbl> & <dbl> & <dbl{[},1{]}> & <dbl{[},1{]}>\\\\\n",
       "\\hline\n",
       "\t 125 & 212 & 0 & -0.3774513 & -0.6590104\\\\\n",
       "\t 140 & 203 & 0 &  0.4788735 & -0.8334543\\\\\n",
       "\t 145 & 174 & 0 &  0.7643151 & -1.3955514\\\\\n",
       "\t ⋮ & ⋮ & ⋮ & ⋮ & ⋮\\\\\n",
       "\t 110 & 275 & 0 & -1.2337761 &  0.5620971\\\\\n",
       "\t 110 & 254 & 1 & -1.2337761 &  0.1550613\\\\\n",
       "\t 120 & 188 & 0 & -0.6628929 & -1.1241942\\\\\n",
       "\\end{tabular}\n"
      ],
      "text/markdown": [
       "\n",
       "A tibble: 1025 × 5\n",
       "\n",
       "| trestbps &lt;dbl&gt; | chol &lt;dbl&gt; | target &lt;dbl&gt; | scaled_trestbps &lt;dbl[,1]&gt; | scaled_chol &lt;dbl[,1]&gt; |\n",
       "|---|---|---|---|---|\n",
       "| 125 | 212 | 0 | -0.3774513 | -0.6590104 |\n",
       "| 140 | 203 | 0 |  0.4788735 | -0.8334543 |\n",
       "| 145 | 174 | 0 |  0.7643151 | -1.3955514 |\n",
       "| ⋮ | ⋮ | ⋮ | ⋮ | ⋮ |\n",
       "| 110 | 275 | 0 | -1.2337761 |  0.5620971 |\n",
       "| 110 | 254 | 1 | -1.2337761 |  0.1550613 |\n",
       "| 120 | 188 | 0 | -0.6628929 | -1.1241942 |\n",
       "\n"
      ],
      "text/plain": [
       "     trestbps chol target scaled_trestbps scaled_chol\n",
       "1    125      212  0      -0.3774513      -0.6590104 \n",
       "2    140      203  0       0.4788735      -0.8334543 \n",
       "3    145      174  0       0.7643151      -1.3955514 \n",
       "⋮    ⋮        ⋮    ⋮      ⋮               ⋮          \n",
       "1023 110      275  0      -1.2337761       0.5620971 \n",
       "1024 110      254  1      -1.2337761       0.1550613 \n",
       "1025 120      188  0      -0.6628929      -1.1241942 "
      ]
     },
     "metadata": {},
     "output_type": "display_data"
    }
   ],
   "source": [
    "heart_data_scaled <- heart_data_selected |> \n",
    " mutate(scaled_trestbps = scale(trestbps, center = TRUE), \n",
    "        scaled_chol = scale(chol, center = TRUE))\n",
    "heart_data_scaled"
   ]
  },
  {
   "cell_type": "markdown",
   "id": "4815bc20-0ab4-4d53-bc02-b2cc9431c3bb",
   "metadata": {},
   "source": [
    "#### *Explanation to Why These Columns are Selected*\n",
    "- ...\n",
    "\n",
    "#### *What do you expect to find?*"
   ]
  },
  {
   "cell_type": "markdown",
   "id": "681d4884-f5b1-4e2e-b5c8-83cc46a5bb8d",
   "metadata": {},
   "source": [
    "### *Preliminary exploratory data analysis*"
   ]
  },
  {
   "cell_type": "code",
   "execution_count": 11,
   "id": "17060eb7-97e6-42fd-8cff-d5d2636572ef",
   "metadata": {},
   "outputs": [
    {
     "data": {
      "text/plain": [
       "<Training/Testing/Total>\n",
       "<768/257/1025>"
      ]
     },
     "metadata": {},
     "output_type": "display_data"
    }
   ],
   "source": [
    "#training data\n",
    "heart_data_split <- initial_split(heart_data, prop = 0.75, strata = target)"
   ]
  },
  {
   "cell_type": "code",
   "execution_count": 20,
   "id": "18d2f2a3-0e5d-4427-a63c-bbe2b31eb222",
   "metadata": {},
   "outputs": [
    {
     "data": {
      "text/html": [
       "<table class=\"dataframe\">\n",
       "<caption>A tibble: 1 × 2</caption>\n",
       "<thead>\n",
       "\t<tr><th scope=col>chol_mean</th><th scope=col>trestbps_mean</th></tr>\n",
       "\t<tr><th scope=col>&lt;dbl&gt;</th><th scope=col>&lt;dbl&gt;</th></tr>\n",
       "</thead>\n",
       "<tbody>\n",
       "\t<tr><td>246</td><td>131.6117</td></tr>\n",
       "</tbody>\n",
       "</table>\n"
      ],
      "text/latex": [
       "A tibble: 1 × 2\n",
       "\\begin{tabular}{ll}\n",
       " chol\\_mean & trestbps\\_mean\\\\\n",
       " <dbl> & <dbl>\\\\\n",
       "\\hline\n",
       "\t 246 & 131.6117\\\\\n",
       "\\end{tabular}\n"
      ],
      "text/markdown": [
       "\n",
       "A tibble: 1 × 2\n",
       "\n",
       "| chol_mean &lt;dbl&gt; | trestbps_mean &lt;dbl&gt; |\n",
       "|---|---|\n",
       "| 246 | 131.6117 |\n",
       "\n"
      ],
      "text/plain": [
       "  chol_mean trestbps_mean\n",
       "1 246       131.6117     "
      ]
     },
     "metadata": {},
     "output_type": "display_data"
    },
    {
     "data": {
      "text/html": [
       "<table class=\"dataframe\">\n",
       "<caption>A tibble: 2 × 2</caption>\n",
       "<thead>\n",
       "\t<tr><th scope=col>target</th><th scope=col>count</th></tr>\n",
       "\t<tr><th scope=col>&lt;dbl&gt;</th><th scope=col>&lt;int&gt;</th></tr>\n",
       "</thead>\n",
       "<tbody>\n",
       "\t<tr><td>0</td><td>499</td></tr>\n",
       "\t<tr><td>1</td><td>526</td></tr>\n",
       "</tbody>\n",
       "</table>\n"
      ],
      "text/latex": [
       "A tibble: 2 × 2\n",
       "\\begin{tabular}{ll}\n",
       " target & count\\\\\n",
       " <dbl> & <int>\\\\\n",
       "\\hline\n",
       "\t 0 & 499\\\\\n",
       "\t 1 & 526\\\\\n",
       "\\end{tabular}\n"
      ],
      "text/markdown": [
       "\n",
       "A tibble: 2 × 2\n",
       "\n",
       "| target &lt;dbl&gt; | count &lt;int&gt; |\n",
       "|---|---|\n",
       "| 0 | 499 |\n",
       "| 1 | 526 |\n",
       "\n"
      ],
      "text/plain": [
       "  target count\n",
       "1 0      499  \n",
       "2 1      526  "
      ]
     },
     "metadata": {},
     "output_type": "display_data"
    },
    {
     "data": {
      "text/html": [
       "<table class=\"dataframe\">\n",
       "<caption>A tibble: 1 × 1</caption>\n",
       "<thead>\n",
       "\t<tr><th scope=col>n</th></tr>\n",
       "\t<tr><th scope=col>&lt;int&gt;</th></tr>\n",
       "</thead>\n",
       "<tbody>\n",
       "\t<tr><td>0</td></tr>\n",
       "</tbody>\n",
       "</table>\n"
      ],
      "text/latex": [
       "A tibble: 1 × 1\n",
       "\\begin{tabular}{l}\n",
       " n\\\\\n",
       " <int>\\\\\n",
       "\\hline\n",
       "\t 0\\\\\n",
       "\\end{tabular}\n"
      ],
      "text/markdown": [
       "\n",
       "A tibble: 1 × 1\n",
       "\n",
       "| n &lt;int&gt; |\n",
       "|---|\n",
       "| 0 |\n",
       "\n"
      ],
      "text/plain": [
       "  n\n",
       "1 0"
      ]
     },
     "metadata": {},
     "output_type": "display_data"
    }
   ],
   "source": [
    "# mean of selected predictors\n",
    "heart_data_mean <- summarize(heart_data_selected, \n",
    "                             chol_mean = mean(chol), \n",
    "                             trestbps_mean = mean(trestbps))\n",
    "heart_data_mean\n",
    "\n",
    "# number of observations for each class\n",
    "heart_data_observations <- group_by(heart_data_selected, target) |>\n",
    "    summarize(count = n())\n",
    "heart_data_observations\n",
    "\n",
    "# rows with missing data\n",
    "heart_data_missing <- filter(heart_data_selected, trestbps == NA, chol == NA, target == NA) |>\n",
    "    count()\n",
    "heart_data_missing"
   ]
  },
  {
   "cell_type": "code",
   "execution_count": null,
   "id": "0285df86-5897-4eca-94a0-3be73a4349a7",
   "metadata": {},
   "outputs": [],
   "source": []
  },
  {
   "cell_type": "markdown",
   "id": "2c77be57-8a2d-489d-a921-067676afe94c",
   "metadata": {},
   "source": [
    "### *Methods*"
   ]
  },
  {
   "cell_type": "code",
   "execution_count": null,
   "id": "c824f055-85b9-4020-bd9a-67f3e905bc15",
   "metadata": {},
   "outputs": [],
   "source": []
  },
  {
   "cell_type": "markdown",
   "id": "171c28e0-5144-4c11-b868-51c4dff68758",
   "metadata": {},
   "source": [
    "### *Expected outcomes and significance*"
   ]
  },
  {
   "cell_type": "code",
   "execution_count": 7,
   "id": "28e042b6-deeb-4c27-9cb5-0de842ddb79d",
   "metadata": {},
   "outputs": [
    {
     "ename": "ERROR",
     "evalue": "Error in parse(text = x, srcfile = src): <text>:1:8: unexpected symbol\n1: - What impacts\n           ^\n",
     "output_type": "error",
     "traceback": [
      "Error in parse(text = x, srcfile = src): <text>:1:8: unexpected symbol\n1: - What impacts\n           ^\nTraceback:\n"
     ]
    }
   ],
   "source": [
    "- What impacts could such findings have?\n",
    "- What future questions could this lead to?"
   ]
  },
  {
   "cell_type": "code",
   "execution_count": null,
   "id": "426e6151-e910-41f4-9ffe-d0ea54505348",
   "metadata": {},
   "outputs": [],
   "source": []
  }
 ],
 "metadata": {
  "kernelspec": {
   "display_name": "R",
   "language": "R",
   "name": "ir"
  },
  "language_info": {
   "codemirror_mode": "r",
   "file_extension": ".r",
   "mimetype": "text/x-r-source",
   "name": "R",
   "pygments_lexer": "r",
   "version": "4.3.1"
  }
 },
 "nbformat": 4,
 "nbformat_minor": 5
}
